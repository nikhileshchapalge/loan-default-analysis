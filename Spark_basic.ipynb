{
  "nbformat": 4,
  "nbformat_minor": 0,
  "metadata": {
    "colab": {
      "provenance": [],
      "collapsed_sections": [],
      "authorship_tag": "ABX9TyPsAYXWEb1TSl2cFJ2DNs+5",
      "include_colab_link": true
    },
    "kernelspec": {
      "name": "python3",
      "display_name": "Python 3"
    },
    "language_info": {
      "name": "python"
    }
  },
  "cells": [
    {
      "cell_type": "markdown",
      "metadata": {
        "id": "view-in-github",
        "colab_type": "text"
      },
      "source": [
        "<a href=\"https://colab.research.google.com/github/nikhileshchapalge/loan-default-analysis/blob/main/Spark_basic.ipynb\" target=\"_parent\"><img src=\"https://colab.research.google.com/assets/colab-badge.svg\" alt=\"Open In Colab\"/></a>"
      ]
    },
    {
      "cell_type": "code",
      "execution_count": 3,
      "metadata": {
        "colab": {
          "base_uri": "https://localhost:8080/"
        },
        "id": "A1AynOfK0IJx",
        "outputId": "2a07e443-30de-440d-e39c-ffb74507f308"
      },
      "outputs": [
        {
          "output_type": "stream",
          "name": "stdout",
          "text": [
            "Looking in indexes: https://pypi.org/simple, https://us-python.pkg.dev/colab-wheels/public/simple/\n",
            "Collecting pyarrow==1.0.0\n",
            "  Downloading pyarrow-1.0.0-cp37-cp37m-manylinux2014_x86_64.whl (17.2 MB)\n",
            "\u001b[K     |████████████████████████████████| 17.2 MB 698 kB/s \n",
            "\u001b[?25hRequirement already satisfied: numpy>=1.14 in /usr/local/lib/python3.7/dist-packages (from pyarrow==1.0.0) (1.21.6)\n",
            "Installing collected packages: pyarrow\n",
            "  Attempting uninstall: pyarrow\n",
            "    Found existing installation: pyarrow 6.0.1\n",
            "    Uninstalling pyarrow-6.0.1:\n",
            "      Successfully uninstalled pyarrow-6.0.1\n",
            "Successfully installed pyarrow-1.0.0\n"
          ]
        }
      ],
      "source": [
        "!pip install pyarrow==\"1.0.0\"\n"
      ]
    },
    {
      "cell_type": "code",
      "source": [
        "!apt-get install openjdk-8-jdk-headless -qq > /dev/null\n",
        "!wget -q https://dlcdn.apache.org/spark/spark-3.3.1/spark-3.3.1-bin-hadoop3.tgz\n",
        "!tar xf spark-3.3.1-bin-hadoop3.tgz\n",
        "!pip install -q findspark"
      ],
      "metadata": {
        "id": "6aSJjk3f20hU"
      },
      "execution_count": 4,
      "outputs": []
    },
    {
      "cell_type": "code",
      "source": [
        "!ls /usr/lib/jvm/"
      ],
      "metadata": {
        "colab": {
          "base_uri": "https://localhost:8080/"
        },
        "id": "rPB0r7dO3w16",
        "outputId": "a3a84016-fc7b-4ee4-a94b-7eaf085ba2cf"
      },
      "execution_count": 5,
      "outputs": [
        {
          "output_type": "stream",
          "name": "stdout",
          "text": [
            "default-java\t\t   java-11-openjdk-amd64     java-8-openjdk-amd64\n",
            "java-1.11.0-openjdk-amd64  java-1.8.0-openjdk-amd64\n"
          ]
        }
      ]
    },
    {
      "cell_type": "code",
      "source": [
        "import os\n",
        "os.environ[\"JAVA_HOME\"] = \"/usr/lib/jvm/java-8-openjdk-amd64\"\n",
        "os.environ[\"SPARK_HOME\"] = \"/content/spark-3.3.1-bin-hadoop3\""
      ],
      "metadata": {
        "id": "wRZdnrCh3xQQ"
      },
      "execution_count": 6,
      "outputs": []
    },
    {
      "cell_type": "code",
      "source": [
        "import findspark\n",
        "findspark.init()\n",
        "from pyspark.sql import SparkSession\n",
        "spark = SparkSession.builder.master(\"local[*]\").getOrCreate()\n"
      ],
      "metadata": {
        "id": "ue2U_YIv3xbg"
      },
      "execution_count": 7,
      "outputs": []
    },
    {
      "cell_type": "code",
      "source": [
        "from pyspark.sql.functions import *\n"
      ],
      "metadata": {
        "id": "zzB9mEOt4U5w"
      },
      "execution_count": 8,
      "outputs": []
    },
    {
      "cell_type": "code",
      "source": [
        "import pyspark"
      ],
      "metadata": {
        "id": "oJa_nM2f4Z9t"
      },
      "execution_count": 9,
      "outputs": []
    },
    {
      "cell_type": "code",
      "source": [
        "pyspark.version\n"
      ],
      "metadata": {
        "colab": {
          "base_uri": "https://localhost:8080/"
        },
        "id": "niQIxz7B4e-E",
        "outputId": "7b5996a4-bf75-4459-c1dd-3115f3b4530a"
      },
      "execution_count": 10,
      "outputs": [
        {
          "output_type": "execute_result",
          "data": {
            "text/plain": [
              "<module 'pyspark.version' from '/content/spark-3.3.1-bin-hadoop3/python/pyspark/version.py'>"
            ]
          },
          "metadata": {},
          "execution_count": 10
        }
      ]
    },
    {
      "cell_type": "code",
      "source": [
        "## read the dataset\n",
        "df=spark.read.option('header','true').csv('/content/census (2).csv',inferSchema=True)"
      ],
      "metadata": {
        "id": "ua-8lWEf4jq7"
      },
      "execution_count": 14,
      "outputs": []
    },
    {
      "cell_type": "code",
      "source": [
        "spark"
      ],
      "metadata": {
        "colab": {
          "base_uri": "https://localhost:8080/",
          "height": 219
        },
        "id": "60yTEloPlGOQ",
        "outputId": "24ca9886-a331-4f08-d486-4eec0dc38cb5"
      },
      "execution_count": 11,
      "outputs": [
        {
          "output_type": "execute_result",
          "data": {
            "text/plain": [
              "<pyspark.sql.session.SparkSession at 0x7f1dac6f5c90>"
            ],
            "text/html": [
              "\n",
              "            <div>\n",
              "                <p><b>SparkSession - in-memory</b></p>\n",
              "                \n",
              "        <div>\n",
              "            <p><b>SparkContext</b></p>\n",
              "\n",
              "            <p><a href=\"http://311eb6850e9e:4040\">Spark UI</a></p>\n",
              "\n",
              "            <dl>\n",
              "              <dt>Version</dt>\n",
              "                <dd><code>v3.3.1</code></dd>\n",
              "              <dt>Master</dt>\n",
              "                <dd><code>local[*]</code></dd>\n",
              "              <dt>AppName</dt>\n",
              "                <dd><code>pyspark-shell</code></dd>\n",
              "            </dl>\n",
              "        </div>\n",
              "        \n",
              "            </div>\n",
              "        "
            ]
          },
          "metadata": {},
          "execution_count": 11
        }
      ]
    },
    {
      "cell_type": "code",
      "source": [
        "df"
      ],
      "metadata": {
        "colab": {
          "base_uri": "https://localhost:8080/"
        },
        "id": "9Ld1E5CU5IBC",
        "outputId": "f70e22ff-7d50-4899-dc56-888b680ffb61"
      },
      "execution_count": 14,
      "outputs": [
        {
          "output_type": "execute_result",
          "data": {
            "text/plain": [
              "DataFrame[age: int, workclass: string, education: string, education_num: int, marital_status: string, occupation: string, relationship: string, race: string, gender: string, hours_per_week: int, native_country: string, greater_than_50k: int]"
            ]
          },
          "metadata": {},
          "execution_count": 14
        }
      ]
    },
    {
      "cell_type": "code",
      "source": [
        "df.show()"
      ],
      "metadata": {
        "colab": {
          "base_uri": "https://localhost:8080/"
        },
        "id": "7dekInSh5PoK",
        "outputId": "9813430d-cdd4-4d36-a0ec-8dd7a6238c85"
      },
      "execution_count": 15,
      "outputs": [
        {
          "output_type": "stream",
          "name": "stdout",
          "text": [
            "+---+-----------------+-------------+-------------+--------------------+------------------+--------------+-------------------+-------+--------------+--------------+----------------+\n",
            "|age|        workclass|    education|education_num|      marital_status|        occupation|  relationship|               race| gender|hours_per_week|native_country|greater_than_50k|\n",
            "+---+-----------------+-------------+-------------+--------------------+------------------+--------------+-------------------+-------+--------------+--------------+----------------+\n",
            "| 39|        State-gov|    Bachelors|           13|       Never-married|      Adm-clerical| Not-in-family|              White|   Male|            40| United-States|               0|\n",
            "| 50| Self-emp-not-inc|    Bachelors|           13|  Married-civ-spouse|   Exec-managerial|       Husband|              White|   Male|            13| United-States|               0|\n",
            "| 38|          Private|      HS-grad|            9|            Divorced| Handlers-cleaners| Not-in-family|              White|   Male|            40| United-States|               0|\n",
            "| 53|          Private|         11th|            7|  Married-civ-spouse| Handlers-cleaners|       Husband|              Black|   Male|            40| United-States|               0|\n",
            "| 28|          Private|    Bachelors|           13|  Married-civ-spouse|    Prof-specialty|          Wife|              Black| Female|            40|          Cuba|               0|\n",
            "| 37|          Private|      Masters|           14|  Married-civ-spouse|   Exec-managerial|          Wife|              White| Female|            40| United-States|               0|\n",
            "| 49|          Private|          9th|            5| Married-spouse-a...|     Other-service| Not-in-family|              Black| Female|            16|       Jamaica|               0|\n",
            "| 52| Self-emp-not-inc|      HS-grad|            9|  Married-civ-spouse|   Exec-managerial|       Husband|              White|   Male|            45| United-States|               1|\n",
            "| 31|          Private|      Masters|           14|       Never-married|    Prof-specialty| Not-in-family|              White| Female|            50| United-States|               1|\n",
            "| 42|          Private|    Bachelors|           13|  Married-civ-spouse|   Exec-managerial|       Husband|              White|   Male|            40| United-States|               1|\n",
            "| 37|          Private| Some-college|           10|  Married-civ-spouse|   Exec-managerial|       Husband|              Black|   Male|            80| United-States|               1|\n",
            "| 30|        State-gov|    Bachelors|           13|  Married-civ-spouse|    Prof-specialty|       Husband| Asian-Pac-Islander|   Male|            40|         India|               1|\n",
            "| 23|          Private|    Bachelors|           13|       Never-married|      Adm-clerical|     Own-child|              White| Female|            30| United-States|               0|\n",
            "| 32|          Private|   Assoc-acdm|           12|       Never-married|             Sales| Not-in-family|              Black|   Male|            50| United-States|               0|\n",
            "| 40|          Private|    Assoc-voc|           11|  Married-civ-spouse|      Craft-repair|       Husband| Asian-Pac-Islander|   Male|            40|          null|               1|\n",
            "| 34|          Private|      7th-8th|            4|  Married-civ-spouse|  Transport-moving|       Husband| Amer-Indian-Eskimo|   Male|            45|        Mexico|               0|\n",
            "| 25| Self-emp-not-inc|      HS-grad|            9|       Never-married|   Farming-fishing|     Own-child|              White|   Male|            35| United-States|               0|\n",
            "| 32|          Private|      HS-grad|            9|       Never-married| Machine-op-inspct|     Unmarried|              White|   Male|            40| United-States|               0|\n",
            "| 38|          Private|         11th|            7|  Married-civ-spouse|             Sales|       Husband|              White|   Male|            50| United-States|               0|\n",
            "| 43| Self-emp-not-inc|      Masters|           14|            Divorced|   Exec-managerial|     Unmarried|              White| Female|            45| United-States|               1|\n",
            "+---+-----------------+-------------+-------------+--------------------+------------------+--------------+-------------------+-------+--------------+--------------+----------------+\n",
            "only showing top 20 rows\n",
            "\n"
          ]
        }
      ]
    },
    {
      "cell_type": "code",
      "source": [
        "df.printSchema()"
      ],
      "metadata": {
        "colab": {
          "base_uri": "https://localhost:8080/"
        },
        "id": "_z_xsRDI5Wn3",
        "outputId": "9b8c2957-3b1f-4e49-b02f-0d3527d4cba7"
      },
      "execution_count": 16,
      "outputs": [
        {
          "output_type": "stream",
          "name": "stdout",
          "text": [
            "root\n",
            " |-- age: integer (nullable = true)\n",
            " |-- workclass: string (nullable = true)\n",
            " |-- education: string (nullable = true)\n",
            " |-- education_num: integer (nullable = true)\n",
            " |-- marital_status: string (nullable = true)\n",
            " |-- occupation: string (nullable = true)\n",
            " |-- relationship: string (nullable = true)\n",
            " |-- race: string (nullable = true)\n",
            " |-- gender: string (nullable = true)\n",
            " |-- hours_per_week: integer (nullable = true)\n",
            " |-- native_country: string (nullable = true)\n",
            " |-- greater_than_50k: integer (nullable = true)\n",
            "\n"
          ]
        }
      ]
    },
    {
      "cell_type": "code",
      "source": [
        "df.columns"
      ],
      "metadata": {
        "colab": {
          "base_uri": "https://localhost:8080/"
        },
        "id": "2zqjwogtoJVp",
        "outputId": "4d8d0362-94b7-4033-c5a0-113dce6613c0"
      },
      "execution_count": 15,
      "outputs": [
        {
          "output_type": "execute_result",
          "data": {
            "text/plain": [
              "['age',\n",
              " 'workclass',\n",
              " 'education',\n",
              " 'education_num',\n",
              " 'marital_status',\n",
              " 'occupation',\n",
              " 'relationship',\n",
              " 'race',\n",
              " 'gender',\n",
              " 'hours_per_week',\n",
              " 'native_country',\n",
              " 'greater_than_50k']"
            ]
          },
          "metadata": {},
          "execution_count": 15
        }
      ]
    },
    {
      "cell_type": "code",
      "source": [
        "df.select(['workclass','education']).show()"
      ],
      "metadata": {
        "colab": {
          "base_uri": "https://localhost:8080/"
        },
        "id": "GaiIlGvs5f9p",
        "outputId": "41f63c2d-dd27-4826-cc88-989459be4713"
      },
      "execution_count": 17,
      "outputs": [
        {
          "output_type": "stream",
          "name": "stdout",
          "text": [
            "+-----------------+-------------+\n",
            "|        workclass|    education|\n",
            "+-----------------+-------------+\n",
            "|        State-gov|    Bachelors|\n",
            "| Self-emp-not-inc|    Bachelors|\n",
            "|          Private|      HS-grad|\n",
            "|          Private|         11th|\n",
            "|          Private|    Bachelors|\n",
            "|          Private|      Masters|\n",
            "|          Private|          9th|\n",
            "| Self-emp-not-inc|      HS-grad|\n",
            "|          Private|      Masters|\n",
            "|          Private|    Bachelors|\n",
            "|          Private| Some-college|\n",
            "|        State-gov|    Bachelors|\n",
            "|          Private|    Bachelors|\n",
            "|          Private|   Assoc-acdm|\n",
            "|          Private|    Assoc-voc|\n",
            "|          Private|      7th-8th|\n",
            "| Self-emp-not-inc|      HS-grad|\n",
            "|          Private|      HS-grad|\n",
            "|          Private|         11th|\n",
            "| Self-emp-not-inc|      Masters|\n",
            "+-----------------+-------------+\n",
            "only showing top 20 rows\n",
            "\n"
          ]
        }
      ]
    },
    {
      "cell_type": "code",
      "source": [
        "# to see the first row \n",
        "df.head(1)"
      ],
      "metadata": {
        "colab": {
          "base_uri": "https://localhost:8080/"
        },
        "id": "wBnDxgJopV7H",
        "outputId": "c00d33bc-e3aa-4806-a524-42eacf6eb2b8"
      },
      "execution_count": 16,
      "outputs": [
        {
          "output_type": "execute_result",
          "data": {
            "text/plain": [
              "[Row(age=39, workclass=' State-gov', education=' Bachelors', education_num=13, marital_status=' Never-married', occupation=' Adm-clerical', relationship=' Not-in-family', race=' White', gender=' Male', hours_per_week=40, native_country=' United-States', greater_than_50k=0)]"
            ]
          },
          "metadata": {},
          "execution_count": 16
        }
      ]
    },
    {
      "cell_type": "code",
      "source": [
        "df.dtypes"
      ],
      "metadata": {
        "colab": {
          "base_uri": "https://localhost:8080/"
        },
        "id": "BMUCbVV75o06",
        "outputId": "fedcf64f-5e35-4a72-c6de-b8b68d729147"
      },
      "execution_count": 18,
      "outputs": [
        {
          "output_type": "execute_result",
          "data": {
            "text/plain": [
              "[('age', 'int'),\n",
              " ('workclass', 'string'),\n",
              " ('education', 'string'),\n",
              " ('education_num', 'int'),\n",
              " ('marital_status', 'string'),\n",
              " ('occupation', 'string'),\n",
              " ('relationship', 'string'),\n",
              " ('race', 'string'),\n",
              " ('gender', 'string'),\n",
              " ('hours_per_week', 'int'),\n",
              " ('native_country', 'string'),\n",
              " ('greater_than_50k', 'int')]"
            ]
          },
          "metadata": {},
          "execution_count": 18
        }
      ]
    },
    {
      "cell_type": "code",
      "source": [
        "df.describe().show()"
      ],
      "metadata": {
        "colab": {
          "base_uri": "https://localhost:8080/"
        },
        "id": "lUy3lsdO5wN-",
        "outputId": "38d65e2d-f1cb-458c-b680-d2dee96a52b8"
      },
      "execution_count": 19,
      "outputs": [
        {
          "output_type": "stream",
          "name": "stdout",
          "text": [
            "+-------+------------------+------------+-------------+------------------+--------------+-----------------+------------+-------------------+-------+------------------+--------------+-------------------+\n",
            "|summary|               age|   workclass|    education|     education_num|marital_status|       occupation|relationship|               race| gender|    hours_per_week|native_country|   greater_than_50k|\n",
            "+-------+------------------+------------+-------------+------------------+--------------+-----------------+------------+-------------------+-------+------------------+--------------+-------------------+\n",
            "|  count|             32560|       30724|        32560|             32560|         32560|            30717|       32560|              32560|  32560|             32560|         31977|              32560|\n",
            "|   mean|38.581848894348894|        null|         null|10.080681818181818|          null|             null|        null|               null|   null|40.437469287469284|          null|0.24081695331695332|\n",
            "| stddev|13.640593255110998|        null|         null|2.5727598014993664|          null|             null|        null|               null|   null|12.347618058479533|          null| 0.4275859720299747|\n",
            "|    min|                17| Federal-gov|         10th|                 1|      Divorced|     Adm-clerical|     Husband| Amer-Indian-Eskimo| Female|                 1|      Cambodia|                  0|\n",
            "|    max|                90| Without-pay| Some-college|                16|       Widowed| Transport-moving|        Wife|              White|   Male|                99|    Yugoslavia|                  1|\n",
            "+-------+------------------+------------+-------------+------------------+--------------+-----------------+------------+-------------------+-------+------------------+--------------+-------------------+\n",
            "\n"
          ]
        }
      ]
    },
    {
      "cell_type": "code",
      "source": [
        "df.withColumnRenamed('native_country','country').show()"
      ],
      "metadata": {
        "colab": {
          "base_uri": "https://localhost:8080/"
        },
        "id": "u5yHhdck52cI",
        "outputId": "00cd95b3-dca3-4855-c6cb-42e660de91fb"
      },
      "execution_count": 20,
      "outputs": [
        {
          "output_type": "stream",
          "name": "stdout",
          "text": [
            "+---+-----------------+-------------+-------------+--------------------+------------------+--------------+-------------------+-------+--------------+--------------+----------------+\n",
            "|age|        workclass|    education|education_num|      marital_status|        occupation|  relationship|               race| gender|hours_per_week|       country|greater_than_50k|\n",
            "+---+-----------------+-------------+-------------+--------------------+------------------+--------------+-------------------+-------+--------------+--------------+----------------+\n",
            "| 39|        State-gov|    Bachelors|           13|       Never-married|      Adm-clerical| Not-in-family|              White|   Male|            40| United-States|               0|\n",
            "| 50| Self-emp-not-inc|    Bachelors|           13|  Married-civ-spouse|   Exec-managerial|       Husband|              White|   Male|            13| United-States|               0|\n",
            "| 38|          Private|      HS-grad|            9|            Divorced| Handlers-cleaners| Not-in-family|              White|   Male|            40| United-States|               0|\n",
            "| 53|          Private|         11th|            7|  Married-civ-spouse| Handlers-cleaners|       Husband|              Black|   Male|            40| United-States|               0|\n",
            "| 28|          Private|    Bachelors|           13|  Married-civ-spouse|    Prof-specialty|          Wife|              Black| Female|            40|          Cuba|               0|\n",
            "| 37|          Private|      Masters|           14|  Married-civ-spouse|   Exec-managerial|          Wife|              White| Female|            40| United-States|               0|\n",
            "| 49|          Private|          9th|            5| Married-spouse-a...|     Other-service| Not-in-family|              Black| Female|            16|       Jamaica|               0|\n",
            "| 52| Self-emp-not-inc|      HS-grad|            9|  Married-civ-spouse|   Exec-managerial|       Husband|              White|   Male|            45| United-States|               1|\n",
            "| 31|          Private|      Masters|           14|       Never-married|    Prof-specialty| Not-in-family|              White| Female|            50| United-States|               1|\n",
            "| 42|          Private|    Bachelors|           13|  Married-civ-spouse|   Exec-managerial|       Husband|              White|   Male|            40| United-States|               1|\n",
            "| 37|          Private| Some-college|           10|  Married-civ-spouse|   Exec-managerial|       Husband|              Black|   Male|            80| United-States|               1|\n",
            "| 30|        State-gov|    Bachelors|           13|  Married-civ-spouse|    Prof-specialty|       Husband| Asian-Pac-Islander|   Male|            40|         India|               1|\n",
            "| 23|          Private|    Bachelors|           13|       Never-married|      Adm-clerical|     Own-child|              White| Female|            30| United-States|               0|\n",
            "| 32|          Private|   Assoc-acdm|           12|       Never-married|             Sales| Not-in-family|              Black|   Male|            50| United-States|               0|\n",
            "| 40|          Private|    Assoc-voc|           11|  Married-civ-spouse|      Craft-repair|       Husband| Asian-Pac-Islander|   Male|            40|          null|               1|\n",
            "| 34|          Private|      7th-8th|            4|  Married-civ-spouse|  Transport-moving|       Husband| Amer-Indian-Eskimo|   Male|            45|        Mexico|               0|\n",
            "| 25| Self-emp-not-inc|      HS-grad|            9|       Never-married|   Farming-fishing|     Own-child|              White|   Male|            35| United-States|               0|\n",
            "| 32|          Private|      HS-grad|            9|       Never-married| Machine-op-inspct|     Unmarried|              White|   Male|            40| United-States|               0|\n",
            "| 38|          Private|         11th|            7|  Married-civ-spouse|             Sales|       Husband|              White|   Male|            50| United-States|               0|\n",
            "| 43| Self-emp-not-inc|      Masters|           14|            Divorced|   Exec-managerial|     Unmarried|              White| Female|            45| United-States|               1|\n",
            "+---+-----------------+-------------+-------------+--------------------+------------------+--------------+-------------------+-------+--------------+--------------+----------------+\n",
            "only showing top 20 rows\n",
            "\n"
          ]
        }
      ]
    },
    {
      "cell_type": "code",
      "source": [
        "df.withColumn('age_in_months', df['age']*12).show()"
      ],
      "metadata": {
        "colab": {
          "base_uri": "https://localhost:8080/"
        },
        "id": "neTBe-K-r3GJ",
        "outputId": "6b73febd-219a-4bed-c7fc-db56ff019911"
      },
      "execution_count": 17,
      "outputs": [
        {
          "output_type": "stream",
          "name": "stdout",
          "text": [
            "+---+-----------------+-------------+-------------+--------------------+------------------+--------------+-------------------+-------+--------------+--------------+----------------+-------------+\n",
            "|age|        workclass|    education|education_num|      marital_status|        occupation|  relationship|               race| gender|hours_per_week|native_country|greater_than_50k|age_in_months|\n",
            "+---+-----------------+-------------+-------------+--------------------+------------------+--------------+-------------------+-------+--------------+--------------+----------------+-------------+\n",
            "| 39|        State-gov|    Bachelors|           13|       Never-married|      Adm-clerical| Not-in-family|              White|   Male|            40| United-States|               0|          468|\n",
            "| 50| Self-emp-not-inc|    Bachelors|           13|  Married-civ-spouse|   Exec-managerial|       Husband|              White|   Male|            13| United-States|               0|          600|\n",
            "| 38|          Private|      HS-grad|            9|            Divorced| Handlers-cleaners| Not-in-family|              White|   Male|            40| United-States|               0|          456|\n",
            "| 53|          Private|         11th|            7|  Married-civ-spouse| Handlers-cleaners|       Husband|              Black|   Male|            40| United-States|               0|          636|\n",
            "| 28|          Private|    Bachelors|           13|  Married-civ-spouse|    Prof-specialty|          Wife|              Black| Female|            40|          Cuba|               0|          336|\n",
            "| 37|          Private|      Masters|           14|  Married-civ-spouse|   Exec-managerial|          Wife|              White| Female|            40| United-States|               0|          444|\n",
            "| 49|          Private|          9th|            5| Married-spouse-a...|     Other-service| Not-in-family|              Black| Female|            16|       Jamaica|               0|          588|\n",
            "| 52| Self-emp-not-inc|      HS-grad|            9|  Married-civ-spouse|   Exec-managerial|       Husband|              White|   Male|            45| United-States|               1|          624|\n",
            "| 31|          Private|      Masters|           14|       Never-married|    Prof-specialty| Not-in-family|              White| Female|            50| United-States|               1|          372|\n",
            "| 42|          Private|    Bachelors|           13|  Married-civ-spouse|   Exec-managerial|       Husband|              White|   Male|            40| United-States|               1|          504|\n",
            "| 37|          Private| Some-college|           10|  Married-civ-spouse|   Exec-managerial|       Husband|              Black|   Male|            80| United-States|               1|          444|\n",
            "| 30|        State-gov|    Bachelors|           13|  Married-civ-spouse|    Prof-specialty|       Husband| Asian-Pac-Islander|   Male|            40|         India|               1|          360|\n",
            "| 23|          Private|    Bachelors|           13|       Never-married|      Adm-clerical|     Own-child|              White| Female|            30| United-States|               0|          276|\n",
            "| 32|          Private|   Assoc-acdm|           12|       Never-married|             Sales| Not-in-family|              Black|   Male|            50| United-States|               0|          384|\n",
            "| 40|          Private|    Assoc-voc|           11|  Married-civ-spouse|      Craft-repair|       Husband| Asian-Pac-Islander|   Male|            40|          null|               1|          480|\n",
            "| 34|          Private|      7th-8th|            4|  Married-civ-spouse|  Transport-moving|       Husband| Amer-Indian-Eskimo|   Male|            45|        Mexico|               0|          408|\n",
            "| 25| Self-emp-not-inc|      HS-grad|            9|       Never-married|   Farming-fishing|     Own-child|              White|   Male|            35| United-States|               0|          300|\n",
            "| 32|          Private|      HS-grad|            9|       Never-married| Machine-op-inspct|     Unmarried|              White|   Male|            40| United-States|               0|          384|\n",
            "| 38|          Private|         11th|            7|  Married-civ-spouse|             Sales|       Husband|              White|   Male|            50| United-States|               0|          456|\n",
            "| 43| Self-emp-not-inc|      Masters|           14|            Divorced|   Exec-managerial|     Unmarried|              White| Female|            45| United-States|               1|          516|\n",
            "+---+-----------------+-------------+-------------+--------------------+------------------+--------------+-------------------+-------+--------------+--------------+----------------+-------------+\n",
            "only showing top 20 rows\n",
            "\n"
          ]
        }
      ]
    },
    {
      "cell_type": "code",
      "source": [
        "df.show()"
      ],
      "metadata": {
        "colab": {
          "base_uri": "https://localhost:8080/"
        },
        "id": "guN_6S4u6BR_",
        "outputId": "f5684155-606a-4bff-e34e-823d04814d52"
      },
      "execution_count": 21,
      "outputs": [
        {
          "output_type": "stream",
          "name": "stdout",
          "text": [
            "+---+-----------------+-------------+-------------+--------------------+------------------+--------------+-------------------+-------+--------------+--------------+----------------+\n",
            "|age|        workclass|    education|education_num|      marital_status|        occupation|  relationship|               race| gender|hours_per_week|native_country|greater_than_50k|\n",
            "+---+-----------------+-------------+-------------+--------------------+------------------+--------------+-------------------+-------+--------------+--------------+----------------+\n",
            "| 39|        State-gov|    Bachelors|           13|       Never-married|      Adm-clerical| Not-in-family|              White|   Male|            40| United-States|               0|\n",
            "| 50| Self-emp-not-inc|    Bachelors|           13|  Married-civ-spouse|   Exec-managerial|       Husband|              White|   Male|            13| United-States|               0|\n",
            "| 38|          Private|      HS-grad|            9|            Divorced| Handlers-cleaners| Not-in-family|              White|   Male|            40| United-States|               0|\n",
            "| 53|          Private|         11th|            7|  Married-civ-spouse| Handlers-cleaners|       Husband|              Black|   Male|            40| United-States|               0|\n",
            "| 28|          Private|    Bachelors|           13|  Married-civ-spouse|    Prof-specialty|          Wife|              Black| Female|            40|          Cuba|               0|\n",
            "| 37|          Private|      Masters|           14|  Married-civ-spouse|   Exec-managerial|          Wife|              White| Female|            40| United-States|               0|\n",
            "| 49|          Private|          9th|            5| Married-spouse-a...|     Other-service| Not-in-family|              Black| Female|            16|       Jamaica|               0|\n",
            "| 52| Self-emp-not-inc|      HS-grad|            9|  Married-civ-spouse|   Exec-managerial|       Husband|              White|   Male|            45| United-States|               1|\n",
            "| 31|          Private|      Masters|           14|       Never-married|    Prof-specialty| Not-in-family|              White| Female|            50| United-States|               1|\n",
            "| 42|          Private|    Bachelors|           13|  Married-civ-spouse|   Exec-managerial|       Husband|              White|   Male|            40| United-States|               1|\n",
            "| 37|          Private| Some-college|           10|  Married-civ-spouse|   Exec-managerial|       Husband|              Black|   Male|            80| United-States|               1|\n",
            "| 30|        State-gov|    Bachelors|           13|  Married-civ-spouse|    Prof-specialty|       Husband| Asian-Pac-Islander|   Male|            40|         India|               1|\n",
            "| 23|          Private|    Bachelors|           13|       Never-married|      Adm-clerical|     Own-child|              White| Female|            30| United-States|               0|\n",
            "| 32|          Private|   Assoc-acdm|           12|       Never-married|             Sales| Not-in-family|              Black|   Male|            50| United-States|               0|\n",
            "| 40|          Private|    Assoc-voc|           11|  Married-civ-spouse|      Craft-repair|       Husband| Asian-Pac-Islander|   Male|            40|          null|               1|\n",
            "| 34|          Private|      7th-8th|            4|  Married-civ-spouse|  Transport-moving|       Husband| Amer-Indian-Eskimo|   Male|            45|        Mexico|               0|\n",
            "| 25| Self-emp-not-inc|      HS-grad|            9|       Never-married|   Farming-fishing|     Own-child|              White|   Male|            35| United-States|               0|\n",
            "| 32|          Private|      HS-grad|            9|       Never-married| Machine-op-inspct|     Unmarried|              White|   Male|            40| United-States|               0|\n",
            "| 38|          Private|         11th|            7|  Married-civ-spouse|             Sales|       Husband|              White|   Male|            50| United-States|               0|\n",
            "| 43| Self-emp-not-inc|      Masters|           14|            Divorced|   Exec-managerial|     Unmarried|              White| Female|            45| United-States|               1|\n",
            "+---+-----------------+-------------+-------------+--------------------+------------------+--------------+-------------------+-------+--------------+--------------+----------------+\n",
            "only showing top 20 rows\n",
            "\n"
          ]
        }
      ]
    },
    {
      "cell_type": "code",
      "source": [],
      "metadata": {
        "id": "h3z-GO4g7sxs"
      },
      "execution_count": null,
      "outputs": []
    },
    {
      "cell_type": "code",
      "source": [
        "## read the dataset\n",
        "df2=spark.read.option('header','true').csv('/content/marks data  - Sheet1 (1).csv',inferSchema=True)"
      ],
      "metadata": {
        "id": "WP5wWiWo6JVB"
      },
      "execution_count": 34,
      "outputs": []
    },
    {
      "cell_type": "code",
      "source": [
        "df2.show()"
      ],
      "metadata": {
        "colab": {
          "base_uri": "https://localhost:8080/"
        },
        "id": "GxZ8QfER71g_",
        "outputId": "a2cfab25-61e4-42b5-c189-155b49b68b37"
      },
      "execution_count": 35,
      "outputs": [
        {
          "output_type": "stream",
          "name": "stdout",
          "text": [
            "+-----+----+----+----+\n",
            "| Name| phy|chem|math|\n",
            "+-----+----+----+----+\n",
            "|  tom|  67|  50|  70|\n",
            "|jerry|null|  89|  75|\n",
            "|lance|  89|  67|null|\n",
            "+-----+----+----+----+\n",
            "\n"
          ]
        }
      ]
    },
    {
      "cell_type": "code",
      "source": [
        "df2.na.fill(70,['phy']).show()\n"
      ],
      "metadata": {
        "colab": {
          "base_uri": "https://localhost:8080/"
        },
        "id": "PvCfLQOX8F57",
        "outputId": "8c9fbbc2-0e00-4bf6-f5bb-8a284927d74c"
      },
      "execution_count": 36,
      "outputs": [
        {
          "output_type": "stream",
          "name": "stdout",
          "text": [
            "+-----+---+----+----+\n",
            "| Name|phy|chem|math|\n",
            "+-----+---+----+----+\n",
            "|  tom| 67|  50|  70|\n",
            "|jerry| 70|  89|  75|\n",
            "|lance| 89|  67|null|\n",
            "+-----+---+----+----+\n",
            "\n"
          ]
        }
      ]
    },
    {
      "cell_type": "code",
      "source": [
        "df2=df2.na.fill(70,['phy'])"
      ],
      "metadata": {
        "id": "6aX6sxzi8Izn"
      },
      "execution_count": 37,
      "outputs": []
    },
    {
      "cell_type": "code",
      "source": [
        "df2.show()"
      ],
      "metadata": {
        "colab": {
          "base_uri": "https://localhost:8080/"
        },
        "id": "pFU-G4Z08SPE",
        "outputId": "72300c40-2ac9-45f6-959c-1128a505bad5"
      },
      "execution_count": 38,
      "outputs": [
        {
          "output_type": "stream",
          "name": "stdout",
          "text": [
            "+-----+---+----+----+\n",
            "| Name|phy|chem|math|\n",
            "+-----+---+----+----+\n",
            "|  tom| 67|  50|  70|\n",
            "|jerry| 70|  89|  75|\n",
            "|lance| 89|  67|null|\n",
            "+-----+---+----+----+\n",
            "\n"
          ]
        }
      ]
    },
    {
      "cell_type": "code",
      "source": [
        "from pyspark.sql.functions import mean as _mean, stddev as _stddev, col\n",
        "\n",
        "df_stats = df2.select(\n",
        "    _mean(col('math')).alias('mean'),\n",
        "    _stddev(col('math')).alias('std')\n",
        ").collect()\n",
        "\n",
        "mean = df_stats[0]['mean']\n",
        "std = df_stats[0]['std']"
      ],
      "metadata": {
        "id": "OkoPPLQa8VCj"
      },
      "execution_count": 39,
      "outputs": []
    },
    {
      "cell_type": "code",
      "source": [
        "mean"
      ],
      "metadata": {
        "colab": {
          "base_uri": "https://localhost:8080/"
        },
        "id": "YGji9eP88qRa",
        "outputId": "11446a03-5f3c-4977-da9d-b3ed0f3ceb9d"
      },
      "execution_count": 42,
      "outputs": [
        {
          "output_type": "execute_result",
          "data": {
            "text/plain": [
              "72.5"
            ]
          },
          "metadata": {},
          "execution_count": 42
        }
      ]
    },
    {
      "cell_type": "code",
      "source": [],
      "metadata": {
        "id": "NbOKeRCc840i"
      },
      "execution_count": null,
      "outputs": []
    }
  ]
}